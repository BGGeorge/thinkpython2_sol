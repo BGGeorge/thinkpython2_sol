{
 "cells": [
  {
   "cell_type": "code",
   "execution_count": null,
   "metadata": {},
   "outputs": [],
   "source": [
    "'''\n",
    "Exercise 7.3. The mathematician Srinivasa Ramanujan found an infinite series that can be used to\n",
    "generate a numerical approximation of 1/p:\n",
    "1\n",
    "p\n",
    "=\n",
    "2\n",
    "p\n",
    "2\n",
    "9801\n",
    "¥å\n",
    "k=0\n",
    "(4k)!(1103 + 26390k)\n",
    "(k!)43964k\n",
    "Write a function called estimate_pi that uses this formula to compute and return an estimate of\n",
    "p. It should use a while loop to compute terms of the summation until the last term is smaller than\n",
    "1e-15 (which is Python notation for 10􀀀15). You can check the result by comparing it to math.pi.\n",
    "Solution: http: // thinkpython2. com/ code/ pi. py .\n",
    "'''"
   ]
  },
  {
   "cell_type": "code",
   "execution_count": 2,
   "metadata": {},
   "outputs": [
    {
     "name": "stdout",
     "output_type": "stream",
     "text": [
      "3.141592653589793\n"
     ]
    }
   ],
   "source": [
    "import math\n",
    "\n",
    "def factorial(n):\n",
    "    if n == 0:\n",
    "        return 1\n",
    "    else:\n",
    "        recurse = factorial(n-1)\n",
    "        result = n * recurse\n",
    "        return result\n",
    "\n",
    "# print(factorial(4))       correct\n",
    "\n",
    "def estimate_pi():\n",
    "    total = 0\n",
    "    k = 0\n",
    "    factor = 2 * math.sqrt(2) / 9801\n",
    "    while True:\n",
    "        num = factorial(4 * k) * (1103 + 26390 * k)\n",
    "        den = factorial(k) ** 4 * 396 ** (4 * k)\n",
    "        term = factor * num / den\n",
    "        total = total + term\n",
    "        \n",
    "        if abs(term) < 1e-15:\n",
    "            break\n",
    "        k = k + 1\n",
    "\n",
    "    return 1 / total\n",
    "\n",
    "print(estimate_pi())"
   ]
  },
  {
   "cell_type": "code",
   "execution_count": null,
   "metadata": {},
   "outputs": [],
   "source": []
  }
 ],
 "metadata": {
  "kernelspec": {
   "display_name": "Python 3",
   "language": "python",
   "name": "python3"
  },
  "language_info": {
   "codemirror_mode": {
    "name": "ipython",
    "version": 3
   },
   "file_extension": ".py",
   "mimetype": "text/x-python",
   "name": "python",
   "nbconvert_exporter": "python",
   "pygments_lexer": "ipython3",
   "version": "3.8.5"
  }
 },
 "nbformat": 4,
 "nbformat_minor": 4
}
