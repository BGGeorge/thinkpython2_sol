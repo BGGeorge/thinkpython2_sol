{
 "cells": [
  {
   "cell_type": "code",
   "execution_count": null,
   "metadata": {},
   "outputs": [],
   "source": [
    "'''\n",
    "Exercise 7.1. Copy the loop from Section 7.5 and encapsulate it in a function called mysqrt that\n",
    "takes a as a parameter, chooses a reasonable value of x, and returns an estimate of the square root of\n",
    "a.\n",
    "To test it, write a function named test_square_root that prints a table like this:\n",
    "a mysqrt(a) math.sqrt(a) diff\n",
    "- --------- ------------ ----\n",
    "1.0 1.0 1.0 0.0\n",
    "2.0 1.41421356237 1.41421356237 2.22044604925e-16\n",
    "3.0 1.73205080757 1.73205080757 0.0\n",
    "4.0 2.0 2.0 0.0\n",
    "5.0 2.2360679775 2.2360679775 0.0\n",
    "6.0 2.44948974278 2.44948974278 0.0\n",
    "7.0 2.64575131106 2.64575131106 0.0\n",
    "8.0 2.82842712475 2.82842712475 4.4408920985e-16\n",
    "9.0 3.0 3.0 0.0\n",
    "The first column is a number, a; the second column is the square root of a computed with mysqrt;\n",
    "the third column is the square root computed by math.sqrt; the fourth column is the absolute value\n",
    "of the difference between the two estimates.\n",
    "'''\n",
    "'''\n",
    "The loop in 7.5:\n",
    "while True:\n",
    "    print(x)\n",
    "    y = (x + a/x) / 2\n",
    "    if y == x:\n",
    "        break\n",
    "    x = y\n",
    "'''"
   ]
  },
  {
   "cell_type": "code",
   "execution_count": null,
   "metadata": {},
   "outputs": [],
   "source": [
    "import math\n",
    "\n",
    "def my_sqrt(a):\n",
    "    x = a / 2\n",
    "    while True:      \n",
    "        y = (x + a/x) / 2\n",
    "        if y == x:\n",
    "            return y\n",
    "            break\n",
    "        x = y    \n",
    "\n",
    "def test_square_root(lista):\n",
    "    line1a = \"a\"\n",
    "    line1b = \"mysqrt(a)\"\n",
    "    line1c = \"math.sqrt(a)\"\n",
    "    line1d = \"diff\"\n",
    "    \n",
    "    line2a = \"-\"\n",
    "    line2b = \"---------\"\n",
    "    line2c = \"------------\"\n",
    "    line2d = \"----\"\n",
    "    \n",
    "    spacing1 = \" \"\n",
    "    spacing2 = \" \" * 3\n",
    "    spacing3 = \"\"\n",
    "    \n",
    "    print(line1a, spacing1, line1b, spacing2, line1c, spacing3, line1d)\n",
    "    print(line2a, spacing1, line2b, spacing2, line2c, spacing3, line2d)\n",
    "    \n",
    "    for a in lista:\n",
    "        col1 = float(a)\n",
    "        col2 = mysqrt(a)\n",
    "        col3 = math.sqrt(a)\n",
    "        col4 = abs(mysqrt(a) - math.sqrt(a))\n",
    " \n",
    "        print(col1, \"{:<13f}\".format(col2), \"{:<13f}\".format(col3), col4) # array usage, method need to konw\n",
    "        \n",
    "test_square_root(range(1,10))"
   ]
  },
  {
   "cell_type": "code",
   "execution_count": null,
   "metadata": {},
   "outputs": [],
   "source": []
  }
 ],
 "metadata": {
  "kernelspec": {
   "display_name": "Python 3",
   "language": "python",
   "name": "python3"
  },
  "language_info": {
   "codemirror_mode": {
    "name": "ipython",
    "version": 3
   },
   "file_extension": ".py",
   "mimetype": "text/x-python",
   "name": "python",
   "nbconvert_exporter": "python",
   "pygments_lexer": "ipython3",
   "version": "3.8.5"
  }
 },
 "nbformat": 4,
 "nbformat_minor": 4
}
