{
 "cells": [
  {
   "cell_type": "code",
   "execution_count": null,
   "metadata": {},
   "outputs": [],
   "source": [
    "'''\n",
    "Exercise 5.2. Fermat’s Last Theorem says that there are no positive integers a, b, and c such that\n",
    "an + bn = cn\n",
    "for any values of n greater than 2.\n",
    "1. Write a function named check_fermat that takes four parameters—a, b, c and n—and\n",
    "checks to see if Fermat’s theorem holds. If n is greater than 2 and\n",
    "an + bn = cn\n",
    "the program should print, “Holy smokes, Fermat was wrong!” Otherwise the program should\n",
    "print, “No, that doesn’t work.”\n",
    "2. Write a function that prompts the user to input values for a, b, c and n, converts them to\n",
    "integers, and uses check_fermat to check whether they violate Fermat’s theorem.\n",
    "'''"
   ]
  },
  {
   "cell_type": "code",
   "execution_count": 13,
   "metadata": {
    "scrolled": true
   },
   "outputs": [
    {
     "name": "stdout",
     "output_type": "stream",
     "text": [
      "a =  1\n",
      "b =  1\n",
      "c =  2\n",
      "n =  2\n",
      "No, that doesn’t work.\n"
     ]
    }
   ],
   "source": [
    "import math\n",
    "\n",
    "def check_fermat(a, b, c, n):\n",
    "    if n > 2 and (a ** n + b ** n == c ** n):\n",
    "        print('Holy smokes, Fermat was wrong!')\n",
    "    else:\n",
    "        print('No, that doesn’t work.')\n",
    "\n",
    "def prompt_user():\n",
    "    a = input('a =  ')\n",
    "    b = input('b =  ')\n",
    "    c = input('c =  ')\n",
    "    n = input('n =  ')\n",
    "    \n",
    "    a1 = int(a)\n",
    "    b1 = int(b)\n",
    "    c1 = int(c)\n",
    "    n1 = int(n)\n",
    "    \n",
    "    check_fermat(a1, b1, c1, n1)\n",
    "    \n",
    "prompt_user()"
   ]
  },
  {
   "cell_type": "code",
   "execution_count": null,
   "metadata": {},
   "outputs": [],
   "source": []
  }
 ],
 "metadata": {
  "kernelspec": {
   "display_name": "Python 3",
   "language": "python",
   "name": "python3"
  },
  "language_info": {
   "codemirror_mode": {
    "name": "ipython",
    "version": 3
   },
   "file_extension": ".py",
   "mimetype": "text/x-python",
   "name": "python",
   "nbconvert_exporter": "python",
   "pygments_lexer": "ipython3",
   "version": "3.8.5"
  }
 },
 "nbformat": 4,
 "nbformat_minor": 4
}
