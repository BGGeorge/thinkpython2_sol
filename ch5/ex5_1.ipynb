{
 "cells": [
  {
   "cell_type": "code",
   "execution_count": null,
   "metadata": {},
   "outputs": [],
   "source": [
    "'''\n",
    "5.14 Exercises\n",
    "Exercise 5.1. The time module provides a function, also named time, that returns the current\n",
    "Greenwich Mean Time in “the epoch”, which is an arbitrary time used as a reference point. On\n",
    "UNIX systems, the epoch is 1 January 1970.\n",
    ">>> import time\n",
    ">>> time.time()\n",
    "1437746094.5735958\n",
    "Write a script that reads the current time and converts it to a time of day in hours, minutes, and\n",
    "seconds, plus the number of days since the epoch.\n",
    "'''"
   ]
  },
  {
   "cell_type": "code",
   "execution_count": 1,
   "metadata": {},
   "outputs": [
    {
     "name": "stdout",
     "output_type": "stream",
     "text": [
      "18659.0 6.0 19.0 14.0\n"
     ]
    }
   ],
   "source": [
    "import time\n",
    "import math\n",
    "\n",
    "now = time.time()\n",
    "\n",
    "def readtime(t):\n",
    "    day_now = t // 24 // 60 // 60\n",
    "    \n",
    "    hour_now = t // 60 // 60\n",
    "    minute_now = t // 60\n",
    "    second_now = t // 1\n",
    "    \n",
    "    hour_real = hour_now - (hour_now // 24) * 24\n",
    "    minute_real = minute_now - (minute_now // 60) * 60\n",
    "    second_real = second_now - (second_now // 60) * 60\n",
    "    \n",
    "    print(day_now, hour_real, minute_real, second_real)\n",
    "\n",
    "readtime(now)"
   ]
  },
  {
   "cell_type": "code",
   "execution_count": null,
   "metadata": {},
   "outputs": [],
   "source": []
  }
 ],
 "metadata": {
  "kernelspec": {
   "display_name": "Python 3",
   "language": "python",
   "name": "python3"
  },
  "language_info": {
   "codemirror_mode": {
    "name": "ipython",
    "version": 3
   },
   "file_extension": ".py",
   "mimetype": "text/x-python",
   "name": "python",
   "nbconvert_exporter": "python",
   "pygments_lexer": "ipython3",
   "version": "3.8.5"
  }
 },
 "nbformat": 4,
 "nbformat_minor": 4
}
