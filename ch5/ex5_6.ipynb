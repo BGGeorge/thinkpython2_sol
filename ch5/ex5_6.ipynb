{
 "cells": [
  {
   "cell_type": "code",
   "execution_count": null,
   "metadata": {},
   "outputs": [],
   "source": [
    "'''\n",
    "Exercise 5.6. The Koch curve is a fractal that looks something like Figure 5.2. To draw a Koch\n",
    "curve with length x, all you have to do is\n",
    "1. Draw a Koch curve with length x/3.\n",
    "2. Turn left 60 degrees.\n",
    "3. Draw a Koch curve with length x/3.\n",
    "4. Turn right 120 degrees.\n",
    "5. Draw a Koch curve with length x/3.\n",
    "6. Turn left 60 degrees.\n",
    "7. Draw a Koch curve with length x/3.\n",
    "The exception is if x is less than 3: in that case, you can just draw a straight line with length x.\n",
    "1. Write a function called koch that takes a turtle and a length as parameters, and that uses the\n",
    "turtle to draw a Koch curve with the given length.\n",
    "2. Write a function called snowflake that draws three Koch curves to make the outline of a\n",
    "snowflake.\n",
    "Solution: http: // thinkpython2. com/ code/ koch. py .\n",
    "3. The Koch curve can be generalized in several ways. See http: // en. wikipedia. org/\n",
    "wiki/ Koch_ snowflake for examples and implement your favorite.\n",
    "'''"
   ]
  },
  {
   "cell_type": "code",
   "execution_count": 1,
   "metadata": {},
   "outputs": [],
   "source": [
    "import turtle\n",
    "\n",
    "def koch(t, length):\n",
    "    if length < 3:\n",
    "        turtle.fd(length)\n",
    "    else:\n",
    "        koch(turtle, length/3)\n",
    "        turtle.lt(60)\n",
    "        \n",
    "        koch(turtle, length/3)\n",
    "        turtle.rt(120)\n",
    "        \n",
    "        koch(turtle, length/3)\n",
    "        turtle.lt(60)\n",
    "        \n",
    "        koch(turtle, length/3)\n",
    "\n",
    "def snowflake(t, length):\n",
    "    for i in range(3):\n",
    "        koch(t, length)\n",
    "        turtle.rt(120)\n",
    "\n",
    "bob = turtle.Turtle()\n",
    "# koch(bob, 20)\n",
    "\n",
    "snowflake(bob, 25)\n",
    "\n",
    "turtle.mainloop()"
   ]
  }
 ],
 "metadata": {
  "kernelspec": {
   "display_name": "Python 3",
   "language": "python",
   "name": "python3"
  },
  "language_info": {
   "codemirror_mode": {
    "name": "ipython",
    "version": 3
   },
   "file_extension": ".py",
   "mimetype": "text/x-python",
   "name": "python",
   "nbconvert_exporter": "python",
   "pygments_lexer": "ipython3",
   "version": "3.8.5"
  }
 },
 "nbformat": 4,
 "nbformat_minor": 4
}
