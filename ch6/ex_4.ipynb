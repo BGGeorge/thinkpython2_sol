{
 "cells": [
  {
   "cell_type": "code",
   "execution_count": null,
   "metadata": {},
   "outputs": [],
   "source": [
    "'''\n",
    "Exercise 6.4. A number, a, is a power of b if it is divisible by b and a/b is a power of b. Write a\n",
    "function called is_power that takes parameters a and b and returns True if a is a power of b. Note:\n",
    "you will have to think about the base case.\n",
    "'''"
   ]
  },
  {
   "cell_type": "code",
   "execution_count": 7,
   "metadata": {},
   "outputs": [
    {
     "name": "stdout",
     "output_type": "stream",
     "text": [
      "False\n",
      "True\n",
      "True\n",
      "\n",
      "\n",
      "True\n",
      "False\n"
     ]
    }
   ],
   "source": [
    "def is_power(a, b):\n",
    "    if a == b:                     # base case\n",
    "        return True\n",
    "    elif a % b == 0:\n",
    "        return is_power(a / b, b)\n",
    "    else:\n",
    "        return False\n",
    "\n",
    "print(is_power(6, 3))\n",
    "print(is_power(5, 5))\n",
    "print(is_power(0, 0))\n",
    "print('\\n')\n",
    "print(is_power(3125, 5))\n",
    "print(is_power(3120, 5))"
   ]
  }
 ],
 "metadata": {
  "kernelspec": {
   "display_name": "Python 3",
   "language": "python",
   "name": "python3"
  },
  "language_info": {
   "codemirror_mode": {
    "name": "ipython",
    "version": 3
   },
   "file_extension": ".py",
   "mimetype": "text/x-python",
   "name": "python",
   "nbconvert_exporter": "python",
   "pygments_lexer": "ipython3",
   "version": "3.8.5"
  }
 },
 "nbformat": 4,
 "nbformat_minor": 4
}
