{
 "cells": [
  {
   "cell_type": "code",
   "execution_count": null,
   "metadata": {},
   "outputs": [],
   "source": [
    "'''\n",
    "Exercise 6.3. A palindrome is a word that is spelled the same backward and forward, like “noon”\n",
    "and “redivider”. Recursively, a word is a palindrome if the first and last letters are the same and the\n",
    "middle is a palindrome.\n",
    "The following are functions that take a string argument and return the first, last, and middle letters:\n",
    "def first(word):\n",
    "return word[0]\n",
    "def last(word):\n",
    "return word[-1]\n",
    "def middle(word):\n",
    "return word[1:-1]\n",
    "We’ll see how they work in Chapter 8.\n",
    "1. Type these functions into a file named palindrome.py and test them out. What happens if\n",
    "you call middle with a string with two letters? One letter? What about the empty string,\n",
    "which is written '' and contains no letters?\n",
    "2. Write a function called is_palindrome that takes a string argument and returns True if it\n",
    "is a palindrome and False otherwise. Remember that you can use the built-in function len\n",
    "to check the length of a string.\n",
    "Solution: http: // thinkpython2. com/ code/ palindrome_ soln. py .\n",
    "'''"
   ]
  },
  {
   "cell_type": "code",
   "execution_count": 4,
   "metadata": {},
   "outputs": [
    {
     "name": "stdout",
     "output_type": "stream",
     "text": [
      "False\n",
      "True\n",
      "True\n",
      "True\n"
     ]
    }
   ],
   "source": [
    "def first(word):\n",
    "    return word[0]\n",
    "\n",
    "def last(word):\n",
    "    return word[-1]\n",
    "\n",
    "def middle(word):\n",
    "    return word[1:-1]\n",
    "\n",
    "def ispalindrome(word):\n",
    "    if len(word) <= 1:\n",
    "        return True\n",
    "    if first(word) != last(word):\n",
    "        return False\n",
    "    else:\n",
    "        return ispalindrome(middle(word))\n",
    "\n",
    "print(ispalindrome('allen'))\n",
    "print(ispalindrome('bob'))\n",
    "print(ispalindrome('otto'))\n",
    "print(ispalindrome('redivider'))"
   ]
  },
  {
   "cell_type": "code",
   "execution_count": null,
   "metadata": {},
   "outputs": [],
   "source": []
  }
 ],
 "metadata": {
  "kernelspec": {
   "display_name": "Python 3",
   "language": "python",
   "name": "python3"
  },
  "language_info": {
   "codemirror_mode": {
    "name": "ipython",
    "version": 3
   },
   "file_extension": ".py",
   "mimetype": "text/x-python",
   "name": "python",
   "nbconvert_exporter": "python",
   "pygments_lexer": "ipython3",
   "version": "3.8.5"
  }
 },
 "nbformat": 4,
 "nbformat_minor": 4
}
