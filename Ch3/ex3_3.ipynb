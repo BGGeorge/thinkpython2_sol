{
 "cells": [
  {
   "cell_type": "code",
   "execution_count": 3,
   "metadata": {},
   "outputs": [
    {
     "name": "stdout",
     "output_type": "stream",
     "text": [
      "+ - - - - + - - - - +\n",
      "|         |         |\n",
      "|         |         |\n",
      "|         |         |\n",
      "|         |         |\n",
      "+ - - - - + - - - - +\n",
      "|         |         |\n",
      "|         |         |\n",
      "|         |         |\n",
      "|         |         |\n",
      "+ - - - - + - - - - +\n"
     ]
    }
   ],
   "source": [
    "'''\n",
    "Exercise 3.3. Note: This exercise should be done using only the statements and other features we\n",
    "have learned so far.\n",
    "1. Write a function that draws a grid like the following:\n",
    "+ - - - - + - - - - +\n",
    "|         |         |\n",
    "|         |         |\n",
    "|         |         |\n",
    "|         |         |\n",
    "+ - - - - + - - - - +\n",
    "|         |         |\n",
    "|         |         |\n",
    "|         |         |\n",
    "|         |         |\n",
    "+ - - - - + - - - - +\n",
    "Hint: to print more than one value on a line, you can print a comma-separated sequence of\n",
    "values:\n",
    "print('+', '-')\n",
    "By default, print advances to the next line, but you can override that behavior and put a\n",
    "space at the end, like this:\n",
    "print('+', end=' ')\n",
    "print('-')\n",
    "28 Chapter 3. Functions\n",
    "The output of these statements is '+ -' on the same line. The output from the next print\n",
    "statement would begin on the next line.\n",
    "2. Write a function that draws a similar grid with four rows and four columns.\n",
    "Solution: http: // thinkpython2. com/ code/ grid. py . Credit: This exercise is based on an\n",
    "exercise in Oualline, Practical C Programming, Third Edition, O’Reilly Media, 1997.\n",
    "'''\n",
    "\n",
    "# first\n",
    "\n",
    "def do_four(v):\n",
    "    print(v)\n",
    "    print(v)\n",
    "    print(v)\n",
    "    print(v)\n",
    "\n",
    "def draw_grid():\n",
    "    border = ('+' + ' '+ '- ' * 4) * 2 + '+'\n",
    "    body   = ('| ' + ' ' * 8) * 2 + '|'\n",
    "    print(border)\n",
    "    do_four(body)\n",
    "    print(border)\n",
    "    do_four(body)\n",
    "    print(border)\n",
    "\n",
    "draw_grid()"
   ]
  },
  {
   "cell_type": "code",
   "execution_count": 4,
   "metadata": {},
   "outputs": [
    {
     "name": "stdout",
     "output_type": "stream",
     "text": [
      "+ - - - - + - - - - + - - - - +\n",
      "|         |         |         |\n",
      "|         |         |         |\n",
      "|         |         |         |\n",
      "|         |         |         |\n",
      "+ - - - - + - - - - + - - - - +\n",
      "|         |         |         |\n",
      "|         |         |         |\n",
      "|         |         |         |\n",
      "|         |         |         |\n",
      "+ - - - - + - - - - + - - - - +\n",
      "|         |         |         |\n",
      "|         |         |         |\n",
      "|         |         |         |\n",
      "|         |         |         |\n",
      "+ - - - - + - - - - + - - - - +\n"
     ]
    }
   ],
   "source": [
    "# second\n",
    "\n",
    "def draw_grid_mod():\n",
    "    border = ('+' + ' '+ '- ' * 4) * 3 + '+'\n",
    "    body   = ('| ' + ' ' * 8) * 3 + '|'\n",
    "    print(border)\n",
    "    do_four(body)\n",
    "    print(border)\n",
    "    do_four(body)\n",
    "    print(border)\n",
    "    do_four(body)\n",
    "    print(border)\n",
    "\n",
    "draw_grid_mod()"
   ]
  },
  {
   "cell_type": "code",
   "execution_count": null,
   "metadata": {},
   "outputs": [],
   "source": []
  }
 ],
 "metadata": {
  "kernelspec": {
   "display_name": "Python 3",
   "language": "python",
   "name": "python3"
  },
  "language_info": {
   "codemirror_mode": {
    "name": "ipython",
    "version": 3
   },
   "file_extension": ".py",
   "mimetype": "text/x-python",
   "name": "python",
   "nbconvert_exporter": "python",
   "pygments_lexer": "ipython3",
   "version": "3.8.5"
  }
 },
 "nbformat": 4,
 "nbformat_minor": 4
}
