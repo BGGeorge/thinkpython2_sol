{
 "cells": [
  {
   "cell_type": "code",
   "execution_count": 1,
   "metadata": {},
   "outputs": [
    {
     "name": "stdout",
     "output_type": "stream",
     "text": [
      "                                                                 monty\n"
     ]
    }
   ],
   "source": [
    "'''\n",
    "Exercise 3.1. Write a function named right_justify that takes a string named s as a parameter\n",
    "and prints the string with enough leading spaces so that the last letter of the string is in column 70\n",
    "of the display.\n",
    ">>> right_justify('monty')\n",
    "                                                                 monty\n",
    "Hint: Use string concatenation and repetition. Also, Python provides a built-in function called len\n",
    "that returns the length of a string, so the value of len('monty') is 5.\n",
    "'''\n",
    "def right_justify(s):\n",
    "    nspace = 70 - len(s)\n",
    "    print(nspace * ' ' + s)\n",
    "right_justify('monty')"
   ]
  }
 ],
 "metadata": {
  "kernelspec": {
   "display_name": "Python 3",
   "language": "python",
   "name": "python3"
  },
  "language_info": {
   "codemirror_mode": {
    "name": "ipython",
    "version": 3
   },
   "file_extension": ".py",
   "mimetype": "text/x-python",
   "name": "python",
   "nbconvert_exporter": "python",
   "pygments_lexer": "ipython3",
   "version": "3.8.5"
  }
 },
 "nbformat": 4,
 "nbformat_minor": 4
}
